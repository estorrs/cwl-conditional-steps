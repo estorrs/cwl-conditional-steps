{
 "cells": [
  {
   "cell_type": "code",
   "execution_count": 1,
   "id": "f0b564b8",
   "metadata": {},
   "outputs": [],
   "source": [
    "import os\n",
    "import yaml\n",
    "import json\n",
    "import pandas as pd\n",
    "from pathlib import Path"
   ]
  },
  {
   "cell_type": "code",
   "execution_count": 3,
   "id": "f63dab9e",
   "metadata": {},
   "outputs": [],
   "source": [
    "cwl_dir = '/home/estorrs/cwl-conditional-steps/cwl/'\n",
    "Path(cwl_dir).mkdir(parents=True, exist_ok=True)"
   ]
  },
  {
   "cell_type": "markdown",
   "id": "21398d6d",
   "metadata": {},
   "source": [
    "#### dummy steps"
   ]
  },
  {
   "cell_type": "code",
   "execution_count": 4,
   "id": "297171d9",
   "metadata": {},
   "outputs": [],
   "source": [
    "template = {\n",
    "    'n_outputs': 'a_int'\n",
    "}"
   ]
  },
  {
   "cell_type": "code",
   "execution_count": 5,
   "id": "cc46454e",
   "metadata": {},
   "outputs": [],
   "source": [
    "yaml.safe_dump(template, open(os.path.join(cwl_dir, 'template.dummy_step.yaml'), 'w'))"
   ]
  },
  {
   "cell_type": "markdown",
   "id": "8f9065df",
   "metadata": {},
   "source": [
    "TinDaisy"
   ]
  },
  {
   "cell_type": "code",
   "execution_count": 6,
   "id": "e5c01696",
   "metadata": {},
   "outputs": [],
   "source": [
    "cwl = {\n",
    "    'class': 'CommandLineTool',\n",
    "    'cwlVersion': 'v1.0',\n",
    "    'id': 'tindaisy_dummy_step',\n",
    "    'label': 'tindaisy_dummy_step',\n",
    "    'baseCommand': ['/usr/local/bin/python', '/cwl-conditional-steps/src/dummy_step.py'],\n",
    "    'inputs': [\n",
    "        {\n",
    "            'id': 'n_outputs',\n",
    "            'type': 'int?',\n",
    "            'default': 3,\n",
    "            'inputBinding': {\n",
    "                'position': '0'\n",
    "            }\n",
    "        }\n",
    "    ],\n",
    "    'outputs': [\n",
    "        {\n",
    "            'id': 'output_maf_clean',\n",
    "            'type': 'File',\n",
    "            'outputBinding': {'glob': 'dummy_output_0.txt'}\n",
    "        },\n",
    "        {\n",
    "            'id': 'output_vcf_clean',\n",
    "            'type': 'File',\n",
    "            'outputBinding': {'glob': 'dummy_output_1.txt'}\n",
    "        },\n",
    "        {\n",
    "            'id': 'output_vcf_all',\n",
    "            'type': 'File',\n",
    "            'outputBinding': {'glob': 'dummy_output_2.txt'}\n",
    "        },\n",
    "    ],\n",
    "    'requirements': [\n",
    "        {\n",
    "            'class': 'DockerRequirement',\n",
    "            'dockerPull': 'estorrs/cwl_conditional_steps:0.0.1'\n",
    "        },\n",
    "        {\n",
    "            'class': 'ResourceRequirement',\n",
    "            'ramMin': 2000\n",
    "        }\n",
    "    ]\n",
    "}"
   ]
  },
  {
   "cell_type": "code",
   "execution_count": 7,
   "id": "d19583d1",
   "metadata": {},
   "outputs": [],
   "source": [
    "yaml.safe_dump(cwl, open(os.path.join(cwl_dir, 'tindaisy_dummy_step.cwl'), 'w'))"
   ]
  },
  {
   "cell_type": "markdown",
   "id": "7d4155d8",
   "metadata": {},
   "source": [
    "TinJasmine"
   ]
  },
  {
   "cell_type": "code",
   "execution_count": 8,
   "id": "3a639ceb",
   "metadata": {},
   "outputs": [],
   "source": [
    "cwl = {\n",
    "    'class': 'CommandLineTool',\n",
    "    'cwlVersion': 'v1.0',\n",
    "    'id': 'tinjasmine_dummy_step',\n",
    "    'label': 'tinjasmine_dummy_step',\n",
    "    'baseCommand': ['/usr/local/bin/python', '/cwl-conditional-steps/src/dummy_step.py'],\n",
    "    'inputs': [\n",
    "        {\n",
    "            'id': 'n_outputs',\n",
    "            'type': 'int?',\n",
    "            'default': 3,\n",
    "            'inputBinding': {\n",
    "                'position': '0'\n",
    "            }\n",
    "        }\n",
    "    ],\n",
    "    'outputs': [\n",
    "        {\n",
    "            'id': 'clean_VCF',\n",
    "            'type': 'File',\n",
    "            'outputBinding': {'glob': 'dummy_output_0.txt'}\n",
    "        },\n",
    "        {\n",
    "            'id': 'allCall_VCF',\n",
    "            'type': 'File',\n",
    "            'outputBinding': {'glob': 'dummy_output_1.txt'}\n",
    "        },\n",
    "        {\n",
    "            'id': 'clean_MAF',\n",
    "            'type': 'File',\n",
    "            'outputBinding': {'glob': 'dummy_output_2.txt'}\n",
    "        },\n",
    "    ],\n",
    "    'requirements': [\n",
    "        {\n",
    "            'class': 'DockerRequirement',\n",
    "            'dockerPull': 'estorrs/cwl_conditional_steps:0.0.1'\n",
    "        },\n",
    "        {\n",
    "            'class': 'ResourceRequirement',\n",
    "            'ramMin': 2000\n",
    "        }\n",
    "    ]\n",
    "}"
   ]
  },
  {
   "cell_type": "code",
   "execution_count": 9,
   "id": "87d5b65e",
   "metadata": {},
   "outputs": [],
   "source": [
    "yaml.safe_dump(cwl, open(os.path.join(cwl_dir, 'tinjasmine_dummy_step.cwl'), 'w'))"
   ]
  },
  {
   "cell_type": "markdown",
   "id": "6ab28f0f",
   "metadata": {},
   "source": [
    "MSIsensor"
   ]
  },
  {
   "cell_type": "code",
   "execution_count": 10,
   "id": "77d97842",
   "metadata": {},
   "outputs": [],
   "source": [
    "cwl = {\n",
    "    'class': 'CommandLineTool',\n",
    "    'cwlVersion': 'v1.0',\n",
    "    'id': 'msisensor_dummy_step',\n",
    "    'label': 'msisensor_dummy_step',\n",
    "    'baseCommand': ['/usr/local/bin/python', '/cwl-conditional-steps/src/dummy_step.py'],\n",
    "    'inputs': [\n",
    "        {\n",
    "            'id': 'n_outputs',\n",
    "            'type': 'int?',\n",
    "            'default': 4,\n",
    "            'inputBinding': {\n",
    "                'position': '0'\n",
    "            }\n",
    "        }\n",
    "    ],\n",
    "    'outputs': [\n",
    "        {\n",
    "            'id': 'output_summary',\n",
    "            'type': 'File',\n",
    "            'outputBinding': {'glob': 'dummy_output_0.txt'}\n",
    "        },\n",
    "        {\n",
    "            'id': 'output_dis',\n",
    "            'type': 'File',\n",
    "            'outputBinding': {'glob': 'dummy_output_1.txt'}\n",
    "        },\n",
    "        {\n",
    "            'id': 'output_germline',\n",
    "            'type': 'File',\n",
    "            'outputBinding': {'glob': 'dummy_output_2.txt'}\n",
    "        },\n",
    "        {\n",
    "            'id': 'output_somatic',\n",
    "            'type': 'File',\n",
    "            'outputBinding': {'glob': 'dummy_output_3.txt'}\n",
    "        },\n",
    "    ],\n",
    "    'requirements': [\n",
    "        {\n",
    "            'class': 'DockerRequirement',\n",
    "            'dockerPull': 'estorrs/cwl_conditional_steps:0.0.1'\n",
    "        },\n",
    "        {\n",
    "            'class': 'ResourceRequirement',\n",
    "            'ramMin': 2000\n",
    "        }\n",
    "    ]\n",
    "}"
   ]
  },
  {
   "cell_type": "code",
   "execution_count": 11,
   "id": "13fcc368",
   "metadata": {},
   "outputs": [],
   "source": [
    "yaml.safe_dump(cwl, open(os.path.join(cwl_dir, 'msisensor_dummy_step.cwl'), 'w'))"
   ]
  },
  {
   "cell_type": "markdown",
   "id": "009e57d4",
   "metadata": {},
   "source": [
    "CNV"
   ]
  },
  {
   "cell_type": "code",
   "execution_count": 18,
   "id": "3b309aaf",
   "metadata": {},
   "outputs": [],
   "source": [
    "cwl = {\n",
    "    'class': 'CommandLineTool',\n",
    "    'cwlVersion': 'v1.0',\n",
    "    'id': 'cnv_dummy_step',\n",
    "    'label': 'cnv_dummy_step',\n",
    "    'baseCommand': ['/usr/local/bin/python', '/cwl-conditional-steps/src/dummy_step.py'],\n",
    "    'inputs': [\n",
    "        {\n",
    "            'id': 'n_outputs',\n",
    "            'type': 'int?',\n",
    "            'default': 1,\n",
    "            'inputBinding': {\n",
    "                'position': '0'\n",
    "            }\n",
    "        }\n",
    "    ],\n",
    "    'outputs': [\n",
    "        {\n",
    "            'id': 'gene_level_cnv',\n",
    "            'type': 'File',\n",
    "            'outputBinding': {'glob': 'dummy_output_0.txt'}\n",
    "        }\n",
    "    ],\n",
    "    'requirements': [\n",
    "        {\n",
    "            'class': 'DockerRequirement',\n",
    "            'dockerPull': 'estorrs/cwl_conditional_steps:0.0.1'\n",
    "        },\n",
    "        {\n",
    "            'class': 'ResourceRequirement',\n",
    "            'ramMin': 2000\n",
    "        }\n",
    "    ]\n",
    "}"
   ]
  },
  {
   "cell_type": "code",
   "execution_count": 19,
   "id": "490ef245",
   "metadata": {},
   "outputs": [],
   "source": [
    "yaml.safe_dump(cwl, open(os.path.join(cwl_dir, 'cnv_dummy_step.cwl'), 'w'))"
   ]
  },
  {
   "cell_type": "markdown",
   "id": "692e7257",
   "metadata": {},
   "source": [
    "Fusion"
   ]
  },
  {
   "cell_type": "code",
   "execution_count": 16,
   "id": "3189f5ed",
   "metadata": {},
   "outputs": [],
   "source": [
    "cwl = {\n",
    "    'class': 'CommandLineTool',\n",
    "    'cwlVersion': 'v1.0',\n",
    "    'id': 'fusion_dummy_step',\n",
    "    'label': 'fusion_dummy_step',\n",
    "    'baseCommand': ['/usr/local/bin/python', '/cwl-conditional-steps/src/dummy_step.py'],\n",
    "    'inputs': [\n",
    "        {\n",
    "            'id': 'n_outputs',\n",
    "            'type': 'int?',\n",
    "            'default': 2,\n",
    "            'inputBinding': {\n",
    "                'position': '0'\n",
    "            }\n",
    "        }\n",
    "    ],\n",
    "    'outputs': [\n",
    "        {\n",
    "            'id': 'filtered_fusions',\n",
    "            'type': 'File',\n",
    "            'outputBinding': {'glob': 'dummy_output_0.txt'}\n",
    "        },\n",
    "        {\n",
    "            'id': 'total_fusions',\n",
    "            'type': 'File',\n",
    "            'outputBinding': {'glob': 'dummy_output_0.txt'}\n",
    "        }\n",
    "    ],\n",
    "    'requirements': [\n",
    "        {\n",
    "            'class': 'DockerRequirement',\n",
    "            'dockerPull': 'estorrs/cwl_conditional_steps:0.0.1'\n",
    "        },\n",
    "        {\n",
    "            'class': 'ResourceRequirement',\n",
    "            'ramMin': 2000\n",
    "        }\n",
    "    ]\n",
    "}"
   ]
  },
  {
   "cell_type": "code",
   "execution_count": 17,
   "id": "ae12bc79",
   "metadata": {},
   "outputs": [],
   "source": [
    "yaml.safe_dump(cwl, open(os.path.join(cwl_dir, 'fusion_dummy_step.cwl'), 'w'))"
   ]
  },
  {
   "cell_type": "code",
   "execution_count": null,
   "id": "c38149b8",
   "metadata": {},
   "outputs": [],
   "source": []
  },
  {
   "cell_type": "code",
   "execution_count": null,
   "id": "1f99e84a",
   "metadata": {},
   "outputs": [],
   "source": []
  },
  {
   "cell_type": "markdown",
   "id": "8f886cda",
   "metadata": {},
   "source": [
    "#### skip steps"
   ]
  },
  {
   "cell_type": "code",
   "execution_count": null,
   "id": "839826a1",
   "metadata": {},
   "outputs": [],
   "source": []
  },
  {
   "cell_type": "code",
   "execution_count": null,
   "id": "76904b33",
   "metadata": {},
   "outputs": [],
   "source": []
  }
 ],
 "metadata": {
  "kernelspec": {
   "display_name": "Python 3 (ipykernel)",
   "language": "python",
   "name": "python3"
  },
  "language_info": {
   "codemirror_mode": {
    "name": "ipython",
    "version": 3
   },
   "file_extension": ".py",
   "mimetype": "text/x-python",
   "name": "python",
   "nbconvert_exporter": "python",
   "pygments_lexer": "ipython3",
   "version": "3.8.12"
  }
 },
 "nbformat": 4,
 "nbformat_minor": 5
}
